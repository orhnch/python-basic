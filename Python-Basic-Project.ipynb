{
 "cells": [
  {
   "cell_type": "markdown",
   "id": "329cc0a2",
   "metadata": {},
   "source": [
    "# #Q1"
   ]
  },
  {
   "cell_type": "code",
   "execution_count": 5,
   "id": "72506824",
   "metadata": {},
   "outputs": [
    {
     "name": "stdout",
     "output_type": "stream",
     "text": [
      "[1, 'a', 'cat', 2, 3, 'dog', 4, 5]\n"
     ]
    }
   ],
   "source": [
    "#Write a (flatten) function\n",
    "\n",
    "# input: [[1,'a',['cat'],2],[[[3]],'dog'],4,5]\n",
    "\n",
    "# output: [1, 'a', 'cat', 2, 3, 'dog', 4, 5]\n",
    "\n",
    "\n",
    "def flatten(gl):\n",
    "    a = []\n",
    "    for i in gl:\n",
    "        if type(i) == type([]):\n",
    "            a.extend(flatten(i))\n",
    "            \n",
    "        else:\n",
    "            a.append(i)\n",
    "    return a\n",
    "\n",
    "\n",
    "gl=[[1,'a',['cat'],2],[[[3]],'dog'],4,5]\n",
    "print(flatten(gl))"
   ]
  },
  {
   "cell_type": "markdown",
   "id": "4eb0666b",
   "metadata": {},
   "source": [
    "# Q2"
   ]
  },
  {
   "cell_type": "code",
   "execution_count": 7,
   "id": "ba981412",
   "metadata": {},
   "outputs": [
    {
     "name": "stdout",
     "output_type": "stream",
     "text": [
      "[[7, 6, 5], [4, 3], [2, 1]]\n"
     ]
    }
   ],
   "source": [
    "#Write a code to reserve lists\n",
    "\n",
    "# input: [[1, 2], [3, 4], [5, 6, 7]]\n",
    "\n",
    "# output: [[[7, 6, 5], [4, 3], [2, 1]]\n",
    "\n",
    "\n",
    "l=[[1, 2], [3, 4], [5, 6, 7]]\n",
    "\n",
    "for i in l:\n",
    "    i.reverse()\n",
    "    \n",
    "l.reverse()\n",
    "print(l)"
   ]
  }
 ],
 "metadata": {
  "kernelspec": {
   "display_name": "Python 3 (ipykernel)",
   "language": "python",
   "name": "python3"
  },
  "language_info": {
   "codemirror_mode": {
    "name": "ipython",
    "version": 3
   },
   "file_extension": ".py",
   "mimetype": "text/x-python",
   "name": "python",
   "nbconvert_exporter": "python",
   "pygments_lexer": "ipython3",
   "version": "3.9.7"
  }
 },
 "nbformat": 4,
 "nbformat_minor": 5
}
